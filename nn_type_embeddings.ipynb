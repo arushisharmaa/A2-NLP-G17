{
 "cells": [
  {
   "cell_type": "markdown",
   "id": "4b6638cf-5092-4241-8948-4e3a771a021e",
   "metadata": {},
   "source": [
    "# Word type embeddings from neural networks\n",
    "\n",
    "Word type embeddings computed using Word2vec, GLoVE or fasttext are convenient because:\n",
    "* they are generally faster to compute than count-based spaces\n",
    "* pre-computed embeddings from large data are freely available\n",
    "* there is good support through Python packages\n"
   ]
  },
  {
   "cell_type": "markdown",
   "id": "a52f3709-3747-4a5b-a2f6-2d550a7dc449",
   "metadata": {},
   "source": [
    "## Pre-computed semantic spaces in gensim\n",
    "\n",
    "The Python package *gensim* comes with several pre-computed distributonal spaces, as well as methods for working with these spaces. Here is how to access them:"
   ]
  },
  {
   "cell_type": "code",
   "execution_count": 1,
   "id": "6197097e-d0c6-432a-b0b9-20a928e71120",
   "metadata": {},
   "outputs": [],
   "source": [
    "import gensim.downloader as gensim_api\n",
    "\n",
    "# what corpora and pre-trained models does gensim have?\n",
    "# if we get the whole info, it's not easy to read\n",
    "gensim_info = gensim_api.info()\n",
    "\n",
    "# uncomment this to get a deluge of text\n",
    "# print(gensim_info)"
   ]
  },
  {
   "cell_type": "code",
   "execution_count": 2,
   "id": "400893b3-dfd7-4401-a9cf-caa1fb72d92c",
   "metadata": {},
   "outputs": [
    {
     "name": "stdout",
     "output_type": "stream",
     "text": [
      "Two types of information in the gensim downloader:\n",
      "\t corpora\n",
      "\t models\n"
     ]
    }
   ],
   "source": [
    "# What info() returns is in fact a dictionary with two entries: \n",
    "# corpora, and models\n",
    "print(\"Two types of information in the gensim downloader:\")\n",
    "for infotype in gensim_info.keys():\n",
    "    print(\"\\t\", infotype)\n"
   ]
  },
  {
   "cell_type": "code",
   "execution_count": 3,
   "id": "ae1386c8-eecd-430e-9025-bde2f8676175",
   "metadata": {},
   "outputs": [
    {
     "name": "stdout",
     "output_type": "stream",
     "text": [
      "Gensim has the following models\n",
      "fasttext-wiki-news-subwords-300\n",
      "conceptnet-numberbatch-17-06-300\n",
      "word2vec-ruscorpora-300\n",
      "word2vec-google-news-300\n",
      "glove-wiki-gigaword-50\n",
      "glove-wiki-gigaword-100\n",
      "glove-wiki-gigaword-200\n",
      "glove-wiki-gigaword-300\n",
      "glove-twitter-25\n",
      "glove-twitter-50\n",
      "glove-twitter-100\n",
      "glove-twitter-200\n",
      "__testing_word2vec-matrix-synopsis\n"
     ]
    }
   ],
   "source": [
    "# Let's look in 'models'. This is, again, a dictionary, where the\n",
    "# keys are model labels\n",
    "print(\"Gensim has the following models\")\n",
    "for modelname in gensim_info[\"models\"].keys():\n",
    "    print(modelname)\n"
   ]
  },
  {
   "cell_type": "code",
   "execution_count": 4,
   "id": "3ed9ef3c-c46d-46e5-9717-2688e949a61a",
   "metadata": {},
   "outputs": [
    {
     "name": "stdout",
     "output_type": "stream",
     "text": [
      "Info for glove-wiki-gigaword-300:\n",
      "num_records : 400000\n",
      "file_size : 394362229\n",
      "base_dataset : Wikipedia 2014 + Gigaword 5 (6B tokens, uncased)\n",
      "reader_code : https://github.com/RaRe-Technologies/gensim-data/releases/download/glove-wiki-gigaword-300/__init__.py\n",
      "license : http://opendatacommons.org/licenses/pddl/\n",
      "parameters : {'dimension': 300}\n",
      "description : Pre-trained vectors based on Wikipedia 2014 + Gigaword, 5.6B tokens, 400K vocab, uncased (https://nlp.stanford.edu/projects/glove/).\n",
      "preprocessing : Converted to w2v format with `python -m gensim.scripts.glove2word2vec -i <fname> -o glove-wiki-gigaword-300.txt`.\n",
      "read_more : ['https://nlp.stanford.edu/projects/glove/', 'https://nlp.stanford.edu/pubs/glove.pdf']\n",
      "checksum : 29e9329ac2241937d55b852e8284e89b\n",
      "file_name : glove-wiki-gigaword-300.gz\n",
      "parts : 1\n"
     ]
    }
   ],
   "source": [
    "# The entry for each model is, again, a dictionary.\n",
    "# Let's look at one\n",
    "print(\"Info for glove-wiki-gigaword-300:\")\n",
    "for entry, value in gensim_info[\"models\"][\"glove-wiki-gigaword-300\"].items():\n",
    "    print(entry, \":\", value)\n"
   ]
  },
  {
   "cell_type": "code",
   "execution_count": 5,
   "id": "768daecd-1c41-4c47-8dc3-c3a882f6ea44",
   "metadata": {},
   "outputs": [
    {
     "name": "stdout",
     "output_type": "stream",
     "text": [
      "Sizes of all models available with gensim:\n",
      "fasttext-wiki-news-subwords-300 \tsize: 1005.007116 M\n",
      "conceptnet-numberbatch-17-06-300 \tsize: 1225.497562 M\n",
      "word2vec-ruscorpora-300 \tsize: 208.427381 M\n",
      "word2vec-google-news-300 \tsize: 1743.56384 M\n",
      "glove-wiki-gigaword-50 \tsize: 69.182535 M\n",
      "glove-wiki-gigaword-100 \tsize: 134.300434 M\n",
      "glove-wiki-gigaword-200 \tsize: 264.336934 M\n",
      "glove-wiki-gigaword-300 \tsize: 394.362229 M\n",
      "glove-twitter-25 \tsize: 109.885004 M\n",
      "glove-twitter-50 \tsize: 209.216938 M\n",
      "glove-twitter-100 \tsize: 405.932991 M\n",
      "glove-twitter-200 \tsize: 795.3731 M\n"
     ]
    }
   ],
   "source": [
    "# The gensim datasets differ in their sizes.\n",
    "# This is relevant when you want to choose one for download,\n",
    "# as the large ones may be too big to use. \n",
    "# Here are the sizes:\n",
    "print(\"Sizes of all models available with gensim:\")\n",
    "\n",
    "for modelname in gensim_info[\"models\"].keys():\n",
    "    if \"file_size\" in gensim_info[\"models\"][modelname]:\n",
    "        print(modelname, \"\\tsize: \", end= \"\")\n",
    "        print(int(gensim_info[\"models\"][modelname][\"file_size\"])/1000000, \"M\")\n"
   ]
  },
  {
   "cell_type": "code",
   "execution_count": 6,
   "id": "1f67b040-5414-4b9a-9d41-3e5ed945c66c",
   "metadata": {},
   "outputs": [],
   "source": [
    "###\n",
    "# We now load one space. \n",
    "# Spaces differ in size, but also in the data on which they were trained.\n",
    "# \n",
    "# I've chosen a mid-size one to get reasonable performance\n",
    "# with not too gigantic a download,\n",
    "# and I've chosen one trained on Wikipedia, which should give\n",
    "# you a nice variety of contexts, along with gigaword,\n",
    "# which is all news.\n",
    "# \n",
    "# Feel free to choose a different space\n",
    "# if this one is too slow to load on your machine --\n",
    "# but note that your results will be slightly different\n",
    "# than the ones I demonstrate. \n",
    "space = gensim_api.load(\"glove-wiki-gigaword-300\")"
   ]
  },
  {
   "cell_type": "markdown",
   "id": "bc29b2d6-48a6-49e5-a52a-e3d7cec740c8",
   "metadata": {},
   "source": [
    "### Using gensim's functions for exploring the space\n",
    "\n",
    "We can now inspect the embedding / the vector / the coordinates that this space has for a target word, like this:"
   ]
  },
  {
   "cell_type": "code",
   "execution_count": 7,
   "id": "34270f12-4298-43f6-83c3-950640dcd504",
   "metadata": {},
   "outputs": [
    {
     "data": {
      "text/plain": [
       "array([-2.2541e-01,  3.9245e-02, -5.0450e-02, -1.8675e-01,  1.1354e-01,\n",
       "        6.5802e-02,  3.9057e-02, -3.4870e-01,  1.6906e-01,  1.1843e-01,\n",
       "       -9.0627e-02,  1.4391e-01, -4.4182e-01, -5.3203e-01, -3.7712e-01,\n",
       "        2.2891e-01, -9.4016e-02,  4.5197e-03, -8.2949e-02,  1.4225e-01,\n",
       "       -3.9489e-02,  5.9168e-01,  1.0723e-01,  4.9680e-01, -1.8976e-01,\n",
       "       -1.8070e-01,  1.8460e-01, -2.7845e-01,  2.0893e-01, -3.4110e-02,\n",
       "       -3.5694e-01, -1.0430e-01, -1.4370e-01,  3.9369e-02,  2.6469e-01,\n",
       "        5.1050e-01,  2.2678e-01, -2.5711e-01, -3.8650e-01,  4.0672e-02,\n",
       "        1.3131e-01,  5.0217e-02, -9.5307e-02, -1.5870e-01, -3.0679e-01,\n",
       "        3.2927e-01,  3.1820e-01, -1.0922e-01, -1.3237e-02, -3.2883e-02,\n",
       "        1.6459e-01, -2.3211e-01,  6.7338e-02,  2.5605e-01,  4.7802e-01,\n",
       "        2.7384e-01, -2.7832e-02, -1.9969e-01,  4.3772e-01, -2.5280e-01,\n",
       "        5.4337e-01, -2.0514e-01,  4.3163e-01, -2.1510e-01, -1.4490e-01,\n",
       "        5.5399e-02,  3.0595e-01,  1.7990e-01,  2.4180e-01,  7.9617e-02,\n",
       "       -4.3730e-01,  3.4777e-02,  9.9573e-02, -1.4418e-01,  3.9792e-02,\n",
       "        1.6248e-01, -2.0543e-01,  1.9870e-01,  4.5397e-01, -9.3226e-02,\n",
       "       -1.9882e-01,  3.5244e-01,  2.8038e-01,  9.0026e-02,  7.7090e-02,\n",
       "       -1.5672e-01, -3.0450e-01, -3.0204e-01,  4.2885e-01,  4.0063e-02,\n",
       "       -6.5351e-01,  4.1666e-01,  1.1056e-01,  1.6439e-02,  3.5046e-02,\n",
       "       -3.0026e-01,  2.1896e-01,  2.3360e-01, -3.8202e-02,  1.7209e-01,\n",
       "        8.8211e-02, -3.3974e-01, -2.2482e-01,  8.1454e-02,  2.9602e-02,\n",
       "        4.1297e-01, -4.5209e-01,  1.3021e-01,  4.8687e-01, -5.7645e-01,\n",
       "        2.5021e-02,  1.8302e-01,  9.1290e-02, -2.5036e-01,  3.0230e-01,\n",
       "       -1.0432e-01, -4.5695e-04, -6.2149e-01,  2.0762e-02,  7.3685e-01,\n",
       "        3.0647e-02,  1.4194e-01, -1.3685e-01,  2.4383e-01, -1.4161e-01,\n",
       "        3.3110e-01,  2.0259e-01,  2.2760e-01,  8.4781e-02, -3.9199e-01,\n",
       "        3.9939e-01, -1.5908e-01, -2.2714e-01, -2.9554e-01,  2.0901e-02,\n",
       "       -4.5488e-02,  2.2975e-01, -6.6110e-02,  9.7422e-02, -2.6891e-01,\n",
       "        6.2891e-02,  6.9770e-02, -1.1254e-01,  3.8489e-02, -8.4635e-02,\n",
       "       -1.1756e-01,  1.2175e-01, -2.5554e-01, -5.3033e-01,  7.2611e-02,\n",
       "       -4.8754e-01, -3.5228e-01, -7.3649e-03,  7.0819e-01,  2.6279e-01,\n",
       "       -3.0634e-02,  1.8993e-01, -4.1739e-01,  3.7807e-01,  3.1601e-01,\n",
       "       -5.7457e-02,  7.7964e-02,  3.8271e-01, -1.3104e-01,  1.7692e-01,\n",
       "       -2.1013e-02, -1.3772e-01,  1.6765e-01,  4.5057e-01, -4.2214e-01,\n",
       "       -5.2367e-02, -1.1086e-02, -7.0185e-01, -3.9701e-01, -6.5711e-02,\n",
       "       -3.7562e-01,  3.1443e-01, -5.7353e-02, -1.9441e-01, -3.0493e-01,\n",
       "        3.1517e-01, -2.3333e-01, -3.3546e-02,  1.5051e-01, -1.7951e-01,\n",
       "       -2.0000e-01,  5.6675e-01, -9.5394e-02, -2.3161e-01,  5.9082e-02,\n",
       "       -7.3842e-01, -4.0175e-01, -9.7005e-02, -9.4425e-02,  3.9963e-02,\n",
       "       -1.2197e-01, -8.1860e-01,  4.2498e-01, -2.0720e-01, -1.1495e-01,\n",
       "        3.4732e-01,  1.3768e-01,  5.7218e-01,  1.9295e-01,  3.3398e-01,\n",
       "        1.7010e-01,  2.9967e-01,  2.3897e-01, -2.1441e-01, -1.8044e-01,\n",
       "        1.4714e-01,  2.9900e-01, -9.2870e-02, -1.0282e-01,  2.5133e-01,\n",
       "        1.1442e-01,  3.8617e-04, -3.1196e-01,  8.5738e-02, -2.9245e-04,\n",
       "        1.2548e-01,  4.0681e-01, -2.8673e-02,  4.6927e-02, -3.3686e-01,\n",
       "        8.9655e-02,  4.7521e-02, -2.9783e-01, -2.5528e-01,  3.0207e-01,\n",
       "       -7.2332e-02, -9.5620e-02,  1.1753e-02, -2.0668e-01,  8.4895e-02,\n",
       "        2.3414e-01,  1.1678e-01, -1.6802e-01, -6.1202e-01,  8.0521e-01,\n",
       "        4.1565e-01,  1.8927e-01, -3.0867e-01,  2.5160e-01,  8.1174e-02,\n",
       "       -2.5269e-01,  1.1404e-01,  4.7085e-02, -3.3065e-02, -4.0507e-01,\n",
       "        8.4239e-01, -8.7167e-01,  2.1862e-01, -3.0329e-02,  2.0484e-01,\n",
       "        3.5199e-01,  1.3391e-01,  1.3102e-03, -1.8634e-02,  1.4822e-01,\n",
       "        1.1570e-01,  2.2204e-01,  2.2487e-01,  3.7527e-01, -4.6752e-01,\n",
       "        3.5196e-01,  5.3291e-01, -7.7631e-02,  6.7914e-01,  4.6478e-01,\n",
       "        3.7471e-01,  3.0957e-01,  2.8083e-03, -2.3996e-01,  1.7638e-01,\n",
       "        2.9660e-03,  8.7148e-01,  2.6890e-01, -5.4046e-02, -9.8840e-02,\n",
       "        1.6287e-01,  1.5856e-02,  1.5355e-01,  3.5923e-01,  2.0349e-01,\n",
       "        1.2374e-01,  4.6613e-02,  2.2212e-01, -1.1401e-01, -2.1463e-01,\n",
       "       -7.9729e-02,  4.0590e-01, -1.5212e-01, -4.4262e-02, -5.6272e-03,\n",
       "       -3.6961e-01, -3.1810e-01,  2.0050e-01,  1.2706e-02,  1.4205e-01],\n",
       "      dtype=float32)"
      ]
     },
     "execution_count": 7,
     "metadata": {},
     "output_type": "execute_result"
    }
   ],
   "source": [
    "# you can get direct access to the vector associated with each word\n",
    "# using straight brackets, as if the space was a dictionary:\n",
    "space[\"amiable\"]\n"
   ]
  },
  {
   "cell_type": "code",
   "execution_count": 8,
   "id": "f73f3a5c-fc75-4c98-b85c-fac7cec6390d",
   "metadata": {
    "tags": []
   },
   "outputs": [
    {
     "data": {
      "text/plain": [
       "gensim.models.keyedvectors.KeyedVectors"
      ]
     },
     "execution_count": 8,
     "metadata": {},
     "output_type": "execute_result"
    }
   ],
   "source": [
    "# what kind of thing is this object we call space?\n",
    "\n",
    "type(space)"
   ]
  },
  {
   "cell_type": "markdown",
   "id": "540cbd11-db20-4a3f-9a96-c88cb6b1218b",
   "metadata": {},
   "source": [
    "### Cosine similarity and nearest neighbors in gensim\n",
    "\n",
    "Gensim comes with a function that computes cosine similarity (higher = more similar) between word vectors:"
   ]
  },
  {
   "cell_type": "code",
   "execution_count": 9,
   "id": "ac6f9286-fd19-4b43-b0e3-c38577a222e7",
   "metadata": {},
   "outputs": [
    {
     "name": "stdout",
     "output_type": "stream",
     "text": [
      "amiable vs grouchy 0.36090654\n",
      "amiable vs affable 0.812942\n",
      "amiable vs obliging 0.26450017\n"
     ]
    }
   ],
   "source": [
    "# computing cosine similarity\n",
    "print(\"amiable vs grouchy\", space.similarity(\"amiable\", \"grouchy\"))\n",
    "print(\"amiable vs affable\", space.similarity(\"amiable\", \"affable\"))\n",
    "print(\"amiable vs obliging\", space.similarity(\"amiable\", \"obliging\"))"
   ]
  },
  {
   "cell_type": "markdown",
   "id": "06bb2d25-1b34-4ff9-b80b-c4a3643fdaeb",
   "metadata": {},
   "source": [
    "The nearest neighbors of a target word are the other words in our inventory that have the highest cosine to the target. This characterizes the meaning of the word through its neighborhood in the semantic space."
   ]
  },
  {
   "cell_type": "code",
   "execution_count": 10,
   "id": "86ddd598-ed05-4b28-99a7-2be2ff391598",
   "metadata": {
    "scrolled": true
   },
   "outputs": [
    {
     "name": "stdout",
     "output_type": "stream",
     "text": [
      "neighborhood of 'amiable':\n",
      "\t affable 0.8129420280456543\n",
      "\t genial 0.7653029561042786\n",
      "\t easygoing 0.7628498077392578\n",
      "\t unassuming 0.6801630258560181\n",
      "\t jovial 0.6614009737968445\n",
      "\t personable 0.657274067401886\n",
      "\t likable 0.6463435292243958\n",
      "\t unpretentious 0.6235607862472534\n",
      "\t likeable 0.6146904826164246\n",
      "\t congenial 0.6083606481552124\n",
      "neighborhood of 'grouchy'\n",
      "\t grumpy 0.5547721982002258\n",
      "\t cranky 0.5063527226448059\n",
      "\t dopey 0.4778646230697632\n",
      "\t irascible 0.4405902624130249\n",
      "\t cantankerous 0.4327520430088043\n",
      "\t surly 0.4287707209587097\n",
      "\t pompous 0.42816585302352905\n",
      "\t irritable 0.42395249009132385\n",
      "\t hunchbacked 0.4206606149673462\n",
      "\t ornery 0.4193281829357147\n",
      "\t uptight 0.41491711139678955\n",
      "\t overprotective 0.41403964161872864\n",
      "\t gruff 0.4137725234031677\n",
      "\t smug 0.4087333679199219\n",
      "\t snobbish 0.4077928364276886\n",
      "\t voluble 0.4072340726852417\n",
      "\t taciturn 0.40713146328926086\n",
      "\t condescending 0.40333572030067444\n",
      "\t haughty 0.39932018518447876\n",
      "\t giggly 0.39813709259033203\n"
     ]
    }
   ],
   "source": [
    "print(\"neighborhood of 'amiable':\")\n",
    "for word, sim in space.most_similar(\"amiable\"):\n",
    "    print(\"\\t\", word, sim)\n",
    "    \n",
    "print(\"neighborhood of 'grouchy'\")\n",
    "for word, sim in space.most_similar(\"grouchy\", topn = 20):\n",
    "    print(\"\\t\", word, sim)"
   ]
  },
  {
   "cell_type": "markdown",
   "id": "01a380dd-d999-41ae-9d35-72c5bfbdc072",
   "metadata": {},
   "source": [
    "### Visualization\n",
    "\n",
    "If meaning is a space, can we look at its map, and see where the different words are located? Yes, and this is actually a very good way of looking at the semantic neighborhood of a word. Semantic spaces usually have many dimensions, 50 or more, which is not straightforwrad to visualize. So the standard way to go is to use *dimensionality reduction* and then visualize the first two resulting dimensions. Here is code that does this. It uses Principal Component Analysis (PCA) to do dimensionality reduction; another option is to use t-sne. (t-sne produces very pretty visualizations, but it can sometimes make them too pretty, producing clusters of points that look clearer than they are in the underlying data.)"
   ]
  },
  {
   "cell_type": "code",
   "execution_count": 11,
   "id": "479ef8ba-ff89-4478-936a-315acace02a4",
   "metadata": {},
   "outputs": [],
   "source": [
    "import numpy as np\n",
    "import matplotlib.pyplot as plt\n",
    "from sklearn.decomposition import PCA\n",
    "\n",
    "###\n",
    "# function that visualizes the nearest neighbors of a given word.\n",
    "# parameters:\n",
    "# - word: central word whose neighborhood to visualize\n",
    "# - space: gensim Word2VecKeyedVectors object, like the space object we \n",
    "#   made above\n",
    "# - topn: number, how many nearest neighbors to include, default is 10\n",
    "def pca_visualize_neighborhood(word, space, topn = 10):\n",
    "    # determine the topn nearest neighbors of word\n",
    "    words_and_sims = space.most_similar(word, topn = topn)\n",
    "    \n",
    "    # make a list of all the words to visualize:\n",
    "    # central word plus nearest neighbors\n",
    "    words = [ word ] + [w for w, s in words_and_sims]\n",
    "    \n",
    "    # put all the word vectors into one matrix\n",
    "    word_vectors = np.array([space[w] for w in words])\n",
    "    \n",
    "    # use dimensionality reduction: \n",
    "    # Principal Component Analysis, PCA\n",
    "    # keep the two first dimensions\n",
    "    twodim = PCA().fit_transform(word_vectors)[:,:2]\n",
    "\n",
    "    # set up the canvas\n",
    "    plt.figure(figsize=(6,6))\n",
    "    # add a scatter plot of the two-D embeddings\n",
    "    plt.scatter(twodim[:,0], twodim[:,1], edgecolors='k', c='r')\n",
    "    # add each of the words to the plot, a bit above and to the right\n",
    "    # of the 2-D dot it goes with\n",
    "    for word, (x,y) in zip(words, twodim):\n",
    "        plt.text(x+0.05, y+0.05, word)\n",
    "\n",
    "    # now show the canvas\n",
    "    plt.show()\n",
    "    \n"
   ]
  },
  {
   "cell_type": "code",
   "execution_count": 12,
   "id": "a3cedc2d-4491-48ea-ba80-de720412200b",
   "metadata": {},
   "outputs": [
    {
     "data": {
      "image/png": "[encoded data removed]",
      "text/plain": [
       "<Figure size 600x600 with 1 Axes>"
      ]
     },
     "metadata": {},
     "output_type": "display_data"
    }
   ],
   "source": [
    "# let's test this visualization\n",
    "pca_visualize_neighborhood(\"amiable\",space, 20)\n"
   ]
  },
  {
   "cell_type": "markdown",
   "id": "1f586019-3943-44f6-9187-5b0f1920b901",
   "metadata": {},
   "source": [
    "##  Computing a Word2vec space with gensim\n",
    "\n",
    "Computing a prediction-based meaning space with gensim is very easy. \n",
    "\n",
    "We first again demonstrate the method with a tiny corpus:"
   ]
  },
  {
   "cell_type": "code",
   "execution_count": 13,
   "id": "ee3e8461-4c3f-4868-9a10-a06671b2a6c2",
   "metadata": {},
   "outputs": [
    {
     "data": {
      "text/plain": [
       "['I am Sam.', 'Sam I am.', 'I do not like green eggs and ham.']"
      ]
     },
     "execution_count": 13,
     "metadata": {},
     "output_type": "execute_result"
    }
   ],
   "source": [
    "sam_corpus = \"\"\"I am Sam. Sam I am. I do not like green eggs and ham.\"\"\"\n",
    "\n",
    "# we split the corpus up into sentences\n",
    "import nltk\n",
    "sam_sents = nltk.sent_tokenize(sam_corpus)\n",
    "sam_sents"
   ]
  },
  {
   "cell_type": "code",
   "execution_count": 14,
   "id": "c4a4feb1-5d16-406e-877a-9b9bbf540822",
   "metadata": {},
   "outputs": [
    {
     "data": {
      "text/plain": [
       "[['I', 'am', 'Sam', '.'],\n",
       " ['Sam', 'I', 'am', '.'],\n",
       " ['I', 'do', 'not', 'like', 'green', 'eggs', 'and', 'ham', '.']]"
      ]
     },
     "execution_count": 14,
     "metadata": {},
     "output_type": "execute_result"
    }
   ],
   "source": [
    "# Then we split each sentence up into words. \n",
    "# We now have a list of sentences, each of which is a list of words.\n",
    "sam_sent_words = [ nltk.word_tokenize(s) for s in sam_sents]\n",
    "sam_sent_words"
   ]
  },
  {
   "cell_type": "code",
   "execution_count": 15,
   "id": "c54f6781-2832-4188-8bf4-424386217919",
   "metadata": {},
   "outputs": [
    {
     "data": {
      "text/plain": [
       "<gensim.models.word2vec.Word2Vec at 0x16ba5f130>"
      ]
     },
     "execution_count": 15,
     "metadata": {},
     "output_type": "execute_result"
    }
   ],
   "source": [
    "# This is the format the gensim takes:\n",
    "# a corpus that is a list of sentences,\n",
    "# where each sentence is a list of words\n",
    "\n",
    "from gensim.models import Word2Vec\n",
    "\n",
    "# parameters: \n",
    "# corpus as a list of sentences,\n",
    "# epochs: number of epochs, that is, number of times the\n",
    "#   training goes through the whole corpus.\n",
    "# min_count: minimum count for words to include. This\n",
    "#   should be larger than 1, but the Sam corpus is so tiny \n",
    "#   that we keep all words\n",
    "# sg: use the skipgram method\n",
    "w2v_obj = Word2Vec(sam_sent_words, epochs = 10, min_count = 1,sg =1)\n",
    "w2v_obj"
   ]
  },
  {
   "cell_type": "code",
   "execution_count": 16,
   "id": "85277e6f-8722-44ef-a5fb-dd82497fe74b",
   "metadata": {
    "tags": []
   },
   "outputs": [
    {
     "data": {
      "text/plain": [
       "array([ 9.4563962e-05,  3.0773198e-03, -6.8126451e-03, -1.3754654e-03,\n",
       "        7.6685809e-03,  7.3464094e-03, -3.6732971e-03,  2.6427018e-03,\n",
       "       -8.3171297e-03,  6.2054861e-03, -4.6373224e-03, -3.1641065e-03,\n",
       "        9.3113566e-03,  8.7338570e-04,  7.4907029e-03, -6.0740625e-03,\n",
       "        5.1605068e-03,  9.9228229e-03, -8.4573915e-03, -5.1356913e-03,\n",
       "       -7.0648370e-03, -4.8626517e-03, -3.7785638e-03, -8.5361991e-03,\n",
       "        7.9556061e-03, -4.8439382e-03,  8.4236134e-03,  5.2625705e-03,\n",
       "       -6.5500261e-03,  3.9578713e-03,  5.4701497e-03, -7.4265362e-03,\n",
       "       -7.4057197e-03, -2.4752307e-03, -8.6257253e-03, -1.5815723e-03,\n",
       "       -4.0343284e-04,  3.2996845e-03,  1.4418805e-03, -8.8142155e-04,\n",
       "       -5.5940580e-03,  1.7303658e-03, -8.9737179e-04,  6.7936908e-03,\n",
       "        3.9735902e-03,  4.5294715e-03,  1.4343059e-03, -2.6998555e-03,\n",
       "       -4.3668128e-03, -1.0320747e-03,  1.4370275e-03, -2.6460087e-03,\n",
       "       -7.0737829e-03, -7.8053069e-03, -9.1217868e-03, -5.9351693e-03,\n",
       "       -1.8474245e-03, -4.3238713e-03, -6.4606704e-03, -3.7173224e-03,\n",
       "        4.2891586e-03, -3.7390434e-03,  8.3781751e-03,  1.5339935e-03,\n",
       "       -7.2423196e-03,  9.4337985e-03,  7.6312125e-03,  5.4932819e-03,\n",
       "       -6.8488456e-03,  5.8226790e-03,  4.0090932e-03,  5.1853694e-03,\n",
       "        4.2559016e-03,  1.9397545e-03, -3.1701624e-03,  8.3538452e-03,\n",
       "        9.6121803e-03,  3.7926030e-03, -2.8369951e-03,  7.1275235e-06,\n",
       "        1.2188185e-03, -8.4583247e-03, -8.2239453e-03, -2.3101569e-04,\n",
       "        1.2372875e-03, -5.7433806e-03, -4.7252737e-03, -7.3460746e-03,\n",
       "        8.3286157e-03,  1.2129784e-04, -4.5093987e-03,  5.7017053e-03,\n",
       "        9.1800150e-03, -4.0998720e-03,  7.9646818e-03,  5.3754342e-03,\n",
       "        5.8791232e-03,  5.1259040e-04,  8.2130842e-03, -7.0190406e-03],\n",
       "      dtype=float32)"
      ]
     },
     "execution_count": 16,
     "metadata": {},
     "output_type": "execute_result"
    }
   ],
   "source": [
    "# getting the actual space, and \n",
    "# getting a vector\n",
    "space_sam = w2v_obj.wv\n",
    "space_sam[\"Sam\"]"
   ]
  },
  {
   "cell_type": "markdown",
   "id": "462fc035-ae6f-4d4a-92d3-8a2468e4cb34",
   "metadata": {},
   "source": [
    "We now move to a corpus that is not quite so tiny, so we can demonstrate cosine similarity.\n",
    "\n",
    "The Brown corpus, a corpus of 1 million words, is sampled from different genres. You can access its genres with the `categories` parameter, like this:"
   ]
  },
  {
   "cell_type": "code",
   "execution_count": 17,
   "id": "1c3f81a6-f2e6-4c57-a815-e5bd324592fb",
   "metadata": {},
   "outputs": [
    {
     "data": {
      "text/plain": [
       "[['Thirty-three'],\n",
       " ['Scotty', 'did', 'not', 'go', 'back', 'to', 'school', '.'],\n",
       " ['His',\n",
       "  'parents',\n",
       "  'talked',\n",
       "  'seriously',\n",
       "  'and',\n",
       "  'lengthily',\n",
       "  'to',\n",
       "  'their',\n",
       "  'own',\n",
       "  'doctor',\n",
       "  'and',\n",
       "  'to',\n",
       "  'a',\n",
       "  'specialist',\n",
       "  'at',\n",
       "  'the',\n",
       "  'University',\n",
       "  'Hospital',\n",
       "  '--',\n",
       "  'Mr.',\n",
       "  'McKinley',\n",
       "  'was',\n",
       "  'entitled',\n",
       "  'to',\n",
       "  'a',\n",
       "  'discount',\n",
       "  'for',\n",
       "  'members',\n",
       "  'of',\n",
       "  'his',\n",
       "  'family',\n",
       "  '--',\n",
       "  'and',\n",
       "  'it',\n",
       "  'was',\n",
       "  'decided',\n",
       "  'it',\n",
       "  'would',\n",
       "  'be',\n",
       "  'best',\n",
       "  'for',\n",
       "  'him',\n",
       "  'to',\n",
       "  'take',\n",
       "  'the',\n",
       "  'remainder',\n",
       "  'of',\n",
       "  'the',\n",
       "  'term',\n",
       "  'off',\n",
       "  ',',\n",
       "  'spend',\n",
       "  'a',\n",
       "  'lot',\n",
       "  'of',\n",
       "  'time',\n",
       "  'in',\n",
       "  'bed',\n",
       "  'and',\n",
       "  ',',\n",
       "  'for',\n",
       "  'the',\n",
       "  'rest',\n",
       "  ',',\n",
       "  'do',\n",
       "  'pretty',\n",
       "  'much',\n",
       "  'as',\n",
       "  'he',\n",
       "  'chose',\n",
       "  '--',\n",
       "  'provided',\n",
       "  ',',\n",
       "  'of',\n",
       "  'course',\n",
       "  ',',\n",
       "  'he',\n",
       "  'chose',\n",
       "  'to',\n",
       "  'do',\n",
       "  'nothing',\n",
       "  'too',\n",
       "  'exciting',\n",
       "  'or',\n",
       "  'too',\n",
       "  'debilitating',\n",
       "  '.']]"
      ]
     },
     "execution_count": 17,
     "metadata": {},
     "output_type": "execute_result"
    }
   ],
   "source": [
    "from nltk.corpus import brown\n",
    "\n",
    "# The first three sentences of the Brown fiction section\n",
    "list(brown.sents(categories=\"fiction\"))[:3]"
   ]
  },
  {
   "cell_type": "markdown",
   "id": "006645a6-c65d-4823-a622-dbb91d4fca45",
   "metadata": {},
   "source": [
    "The corpus is too small to give us good word vectors, but at least it is not tiny. It has 68,500 words:"
   ]
  },
  {
   "cell_type": "code",
   "execution_count": 18,
   "id": "470bed19-c896-4027-83a0-e2bb733b2638",
   "metadata": {},
   "outputs": [
    {
     "data": {
      "text/plain": [
       "68488"
      ]
     },
     "execution_count": 18,
     "metadata": {},
     "output_type": "execute_result"
    }
   ],
   "source": [
    "len(list(brown.words(categories = \"fiction\")))"
   ]
  },
  {
   "cell_type": "markdown",
   "id": "4f078f7b-cb1f-4e20-918d-28ea092ae3f4",
   "metadata": {},
   "source": [
    "We can use gensim's Word2Vec in exactly the same way here as with the Sam corpus: "
   ]
  },
  {
   "cell_type": "code",
   "execution_count": 19,
   "id": "fcf61da2-a644-4bf2-b49b-fb791619f80f",
   "metadata": {},
   "outputs": [
    {
     "name": "stdout",
     "output_type": "stream",
     "text": [
      "CPU times: user 1.84 s, sys: 47.5 ms, total: 1.89 s\n",
      "Wall time: 922 ms\n"
     ]
    }
   ],
   "source": [
    "%%time\n",
    "# The %%time command is not a python command, it's jupyter notebook-ese\n",
    "# This will put a timer on how long it takes to compute the meaning space\n",
    "\n",
    "\n",
    "# parameters: \n",
    "# corpus as a list of sentences,\n",
    "# epochs: number of epochs, that is, number of times the\n",
    "#   training goes through the whole corpus.\n",
    "# min_count: minimum count for words to include. We set it to 10. \n",
    "#   10, 20, or maybe 50 for large corpora are reasonable numbers here.\n",
    "# sg: use the skipgram method\n",
    "# vector_size: number of dimensions to use\n",
    "w2vec_fiction = Word2Vec(brown.sents(categories = \"fiction\"), epochs=10, min_count=10, vector_size=300, sg = 1)"
   ]
  },
  {
   "cell_type": "markdown",
   "id": "d4b40b03-3b76-478b-a2e3-d98261fbdf55",
   "metadata": {},
   "source": [
    "What target words do we have in our space?\n",
    "\n",
    "Note that we need the *wv*, for word-vectors, to access the gensim space functions you know. "
   ]
  },
  {
   "cell_type": "code",
   "execution_count": 20,
   "id": "b63ef3ef-5257-4cf4-bb77-e9cece46d6f3",
   "metadata": {},
   "outputs": [
    {
     "data": {
      "text/plain": [
       "dict_keys([',', '.', 'the', 'and', 'to', 'of', 'a', 'was', 'in', 'he', 'his', 'had', '``', \"''\", '?', 'that', 'I', 'He', 'with', 'it', 'on', 'her', 'for', 'him', 'The', 'at', ';', 'as', 'not', 'would', '!', 'she', 'be', 'were', 'you', 'they', 'from', 'out', 'but', 'said', 'up', 'all', '--', 'them', 'about', 'one', 'or', 'could', 'have', 'by', 'their', 'been', 'an', 'there', 'It', 'like', 'into', 'this', 'She', 'is', 'me', 'when', 'no', 'down', 'what', 'which', 'my', 'did', 'so', 'man', 'who', 'back', 'now', 'time', 'over', 'if', 'came', 'But', 'some', 'do', 'we', ':', 'They', 'more', 'little', 'went', 'get', 'where', 'then', 'thought', 'know', 'old', 'only', 'And', 'before', 'looked', 'men', 'go', 'never', 'around', 'himself', 'There', 'two', 'again', 'room', 'way', 'off', 'made', 'His', 'eyes', 'here', 'through', 'knew', 'When', 'face', 'saw', 'A', 'too', 'felt', 'What', 'see', 'even', 'own', 'must', 'seemed', \"don't\", 'good', 'come', 'away', 'In', 'still', 'head', 'just', 'how', 'house', 'after', 'any', 'its', 'night', \"didn't\", 'long', 'will', 'day', 'got', 'same', 'first', 'asked', 'are', 'hand', 'much', 'always', 'make', 'home', 'other', 'take', 'told', 'door', 'another', 'than', 'while', 'You', 'going', 'something', 'might', 'took', 'years', 'life', 'think', 'Then', 'right', 'turned', 'very', 'That', 'God', 'our', 'found', 'Mrs.', 'stood', 'left', 'these', 'white', 'because', 'Kate', 'church', 'water', 'look', 'people', 'Mr.', 'your', 'once', 'behind', 'John', 'sat', 'At', 'can', 'put', 'heard', 'us', 'big', 'Winston', 'place', 'say', 'moment', 'voice', 'How', 'though', 'well', 'began', 'should', 'days', 'enough', 'want', 'woman', 'new', 'road', 'boy', 'most', 'every', 'We', 'each', 'doctor', 'No', 'Hans', 'dark', 'body', 'across', 'morning', 'Scotty', 'work', 'tell', 'things', 'great', 'mind', 'last', 'being', 'If', 'small', 'Watson', 'figure', 'thing', 'those', 'Now', 'hands', 'done', 'front', 'together', 'next', 'Miss', 'Rector', 'This', 'bed', 'few', 'gone', 'many', 'let', 'called', \"I'm\", 'hall', 'since', 'has', 'better', 'seen', 'open', 'such', 'All', 'three', 'without', 'ever', 'tried', 'find', 'window', 'anything', 'hair', 'young', 'nothing', 'part', 'almost', 'Alex', 'moved', 'air', 'against', 'really', 'war', 'hear', 'black', 'until', 'Why', 'stopped', 'world', 'under', 'side', 'Not', ')', 'near', \"couldn't\", 'toward', 'sure', 'name', '(', 'held', 'Eileen', 'ran', 'yet', 'suddenly', 'far', 'walked', 'care', 'give', 'For', 'both', 'whole', 'arm', 'getting', 'coming', 'kitchen', 'feet', 'end', 'brought', 'kid', 'gave', 'girl', 'lay', 'wanted', 'along', 'table', 'hell', 'light', 'am', 'given', 'herself', 'Joe', 'So', 'children', 'Oh', 'On', 'high', 'keep', 'sweet', 'river', 'looking', 'Wilson', 'Well', 'dead', 'money', 'watched', 'used', 'town', 'past', 'To', 'word', 'Andrei', 'school', 'child', 'Mary', 'feel', 'Adam', 'father', 'corner', 'steps', 'started', 'words', 'nose', 'understand', 'Stevie', 'city', 'why', 'trying', 'Rachel', 'floor', 'feeling', 'everything', 'walk', 'kind', 'son', 'ten', 'sitting', 'trees', 'eye', 'Rousseau', 'already', \"I've\", 'standing', 'women', 'box', 'opened', 'Church', 'inside', 'death', 'wall', 'Michelangelo', 'clothes', 'living', 'mouth', 'summer', 'afternoon', 'bad', 'times', 'evening', 'Ada', 'course', 'chair', 'Linda', 'become', 'ready', 'street', 'closed', 'Kay', 'set', 'Abel', 'passed', 'others', 'New', 'Big', 'As', 'Her', 'Eugene', 'six', 'thin', 'ground', 'quite', 'arms', 'One', 'making', 'Warren', 'alone', 'Bobby', 'gray', 'leave', 'ask', 'wore', 'waiting', 'horse', 'love', 'close', 'hen', 'taken', 'hold', 'Styka', 'week', 'cold', 'stairs', 'Juanita', \"he'd\", 'Papa', 'House', 'lips', 'write', 'coffee', 'heart', 'else', 'matter', 'sort', 'help', 'piece', 'Pa', 'Cousin', 'lost', \"I'll\", 'doing', 'kept', 'rest', 'early', 'mission', 'top', 'With', 'land', 'whisky', 'yes', 'hung', 'sometimes', 'officer', 'rather', 'Harold', 'silent', 'Claire', 'Jessica', 'Ma', 'full', 'visit', 'snow', \"That's\", 'bank', 'itself', 'beside', 'hotel', \"hadn't\", 'outside', 'laughed', 'drink', 'company', 'soon', 'talk', 'among', 'later', 'five', 'blue', 'slowly', 'Uncle', 'four', 'hundred', 'Hino', 'mean', 'read', 'Where', 'red', 'audience', 'between', 'Mark', 'Argiento', 'Howard', 'neck', 'carefully', 'sea', 'Lublin', 'carried', 'easy', 'happened', 'order', \"He's\", 'Ludie', 'sound', 'hard', 'moving', 'sit', 'news', 'From', 'myself', 'dust', 'fire', 'filled', 'paper', 'above', 'gun', 'family', 'hot', 'fingers', 'surprised', 'seeing', 'thick', 'half', 'best', 'talked', 'Jack', 'clean', 'idea', 'run', 'nearly', 'upstairs', 'girls', 'fell', 'study', 'empty', 'group', 'train', 'believe', 'My', 'important', 'sky', \"It's\", 'flesh', 'state', 'fear', 'walking', 'poor', 'became', 'sent', 'caught', 'wet', 'After', 'Andrus', 'Simms', 'car', 'McFeeley', 'different', 'longer', 'boys', 'wrote', 'minutes', 'foot', 'saying', 'taking', 'often', 'Purdew', 'hour', 'reason', 'business', 'music', 'wife', 'apartment', 'friends', 'streets', 'dinner', 'real', 'David', 'short', \"she'd\", 'Joel', 'camp', 'letters', 'married', 'seem', 'nigger', 'remembered', 'dressed', 'ice', 'everyone', 'bedroom', 'letter', 'whose', 'move', 'Street', 'whether', 'Before', 'speak', 'need', 'rose', 'settled', 'heavy', 'working', 'except', 'answer', 'slept', 'stared', 'legs', 'questions', 'quick', 'having', \"I'd\", 'shook', 'second', 'perhaps', 'trouble', 'wait', 'touch', 'reached', 'sight', 'Here', 'however', 'memory', 'crossed', 'desire', 'fine', \"doctor's\", 'appear', 'edge', 'By', 'Once', 'pretty', 'merely', 'fat', 'pain', 'hours', 'late', 'telephone', 'supper', 'Majdanek', 'Byron', 'Pedersen', \"Alex's\", 'case', 'deep', 'sharp', 'pattern', 'line', 'dying', 'shoulder', 'within', 'stop', 'stone', 'strange', 'worked', 'ago', 'hut', 'colored', 'fact', 'died', 'York', 'country', 'Trig', 'beyond', 'low', 'River', 'play', \"man's\", 'Lawrence', 'smiled', 'during', 'guess', 'bought', 'Laura', 'performance', 'point', 'afraid', 'led', 'show', 'places', \"Don't\", 'bring', 'soldiers'])"
      ]
     },
     "execution_count": 20,
     "metadata": {},
     "output_type": "execute_result"
    }
   ],
   "source": [
    "space = w2vec_fiction.wv\n",
    "\n",
    "space.key_to_index.keys()"
   ]
  },
  {
   "cell_type": "markdown",
   "id": "085a0a8f-e7be-4ed3-886b-c599735e9a88",
   "metadata": {},
   "source": [
    "We can now compute cosine similarity as before:"
   ]
  },
  {
   "cell_type": "code",
   "execution_count": 21,
   "id": "58bfdfa9-bfcb-495d-8625-67e0630bbac4",
   "metadata": {},
   "outputs": [
    {
     "data": {
      "text/plain": [
       "0.97253406"
      ]
     },
     "execution_count": 21,
     "metadata": {},
     "output_type": "execute_result"
    }
   ],
   "source": [
    "space.similarity(\"doctor\", \"family\")"
   ]
  },
  {
   "cell_type": "code",
   "execution_count": 22,
   "id": "4ab7580a-ce54-449c-8060-77f2db3e1c1e",
   "metadata": {},
   "outputs": [
    {
     "data": {
      "text/plain": [
       "[('young', 0.9826302528381348),\n",
       " ('whose', 0.9754039645195007),\n",
       " ('new', 0.9731448292732239),\n",
       " ('flesh', 0.9675564169883728),\n",
       " ('died', 0.9672748446464539),\n",
       " ('play', 0.9667861461639404),\n",
       " ('once', 0.96490877866745),\n",
       " ('death', 0.9642977714538574),\n",
       " ('years', 0.9636864066123962),\n",
       " ('part', 0.9629346132278442)]"
      ]
     },
     "execution_count": 22,
     "metadata": {},
     "output_type": "execute_result"
    }
   ],
   "source": [
    "space.most_similar(\"woman\")"
   ]
  }
 ],
 "metadata": {
  "kernelspec": {
   "display_name": "ai_env",
   "language": "python",
   "name": "python3"
  },
  "language_info": {
   "codemirror_mode": {
    "name": "ipython",
    "version": 3
   },
   "file_extension": ".py",
   "mimetype": "text/x-python",
   "name": "python",
   "nbconvert_exporter": "python",
   "pygments_lexer": "ipython3",
   "version": "3.12.2"
  }
 },
 "nbformat": 4,
 "nbformat_minor": 5
}
